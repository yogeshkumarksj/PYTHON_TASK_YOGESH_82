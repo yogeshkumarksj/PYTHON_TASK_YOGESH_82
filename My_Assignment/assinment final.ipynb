{
 "cells": [
  {
   "cell_type": "code",
   "execution_count": null,
   "id": "b1574f4a-f231-41ab-b33b-895f7d98042a",
   "metadata": {},
   "outputs": [],
   "source": [
    "Assignment-1"
   ]
  },
  {
   "cell_type": "code",
   "execution_count": null,
   "id": "679c8a6f-71d3-476d-9f86-84c971f0b8cf",
   "metadata": {},
   "outputs": [],
   "source": [
    "# Basic Variable Swapping"
   ]
  },
  {
   "cell_type": "code",
   "execution_count": 31,
   "id": "94782920-414f-42b2-ba74-5931f55dc367",
   "metadata": {},
   "outputs": [
    {
     "name": "stdout",
     "output_type": "stream",
     "text": [
      "This is n1 value: 30\n",
      "This is n2 value: 20\n"
     ]
    }
   ],
   "source": [
    "\n",
    "# 1. Switch values of two integers\n",
    "# Input: n1 = 20, n2 = 30\n",
    "# Output: n1 = 30, n2 = 20\n",
    "n1=20\n",
    "n2=30\n",
    "n1,n2=n2,n1\n",
    "print (\"This is n1 value:\",n1)\n",
    "print (\"This is n2 value:\",n2)"
   ]
  },
  {
   "cell_type": "code",
   "execution_count": 35,
   "id": "8dadb871-1aee-45bf-82ca-48a5e9680c4b",
   "metadata": {},
   "outputs": [
    {
     "name": "stdout",
     "output_type": "stream",
     "text": [
      "This is char1 = java\n",
      "This is char2 = 30\n"
     ]
    }
   ],
   "source": [
    "# 2. Switch values of two strings (characters)\n",
    "# Input: char1 = \"hello\", char2 = \"java\"\n",
    "# Output: char1 = \"java\", char2 = \"hello\"\n",
    "char1=\"hello\"\n",
    "char2=\"java\"\n",
    "char1,char2=char2,n1\n",
    "print(\"This is char1 =\",char1)\n",
    "print(\"This is char2 =\",char2)"
   ]
  },
  {
   "cell_type": "code",
   "execution_count": 8,
   "id": "5e51c645-1e5e-4507-9683-f86a56e7d0af",
   "metadata": {},
   "outputs": [
    {
     "name": "stdout",
     "output_type": "stream",
     "text": [
      "This is n1 value: java\n",
      "This is n2 value: 200\n"
     ]
    }
   ],
   "source": [
    "# 3. Switch one string value with one integer value\n",
    "# Input: n1 = 200, char2 = \"java\"\n",
    "# Output: n1 = \"java\", char2 = 200\n",
    "n1=200\n",
    "n2=\"java\"\n",
    "n1,n2=n2,n1\n",
    "print (\"This is n1 value:\",n1)\n",
    "print (\"This is n2 value:\",n2)"
   ]
  },
  {
   "cell_type": "code",
   "execution_count": null,
   "id": "cea44371-e3e0-4fc1-884c-2dfcdd40e03d",
   "metadata": {},
   "outputs": [],
   "source": [
    "# Banking and Transactions"
   ]
  },
  {
   "cell_type": "code",
   "execution_count": 29,
   "id": "730b0c0d-629f-4123-96ef-da25178898e7",
   "metadata": {},
   "outputs": [
    {
     "name": "stdout",
     "output_type": "stream",
     "text": [
      "Before deposit: current_balance = 10000\n",
      "After deposit:  current_balance = 15000\n"
     ]
    }
   ],
   "source": [
    "# 5. Update balance after deposit\n",
    "# Initial balance: current_balance = 10000\n",
    "# Deposit amount: deposit_balance = 5000\n",
    "# Output:\n",
    "# ○ Before deposit: current_balance = 10000\n",
    "# # ○ After deposit: current_balance = 15000\n",
    "\n",
    "\n",
    "current_balance = 10000 #Initial balance: \n",
    "deposit_balance = 5000 # Deposit amount:\n",
    "res=current_balance+deposit_balance\n",
    "print (\"Before deposit: current_balance =\",current_balance)\n",
    "print (\"After deposit:  current_balance =\",res)\n"
   ]
  },
  {
   "cell_type": "code",
   "execution_count": 34,
   "id": "8a146581-ea04-4346-a58f-92a9aad041cf",
   "metadata": {},
   "outputs": [
    {
     "name": "stdout",
     "output_type": "stream",
     "text": [
      "9000\n"
     ]
    }
   ],
   "source": [
    "# 6. Update balance after withdrawal\n",
    "# Before: balance = 12000\n",
    "# Withdrawal: 3000\n",
    "balance= 12000 # Before withdrawl\n",
    "withdrawl_amount=3000\n",
    "Initial_balance=balance-withdrawl_amount\n",
    "print (Initial_balance)"
   ]
  },
  {
   "cell_type": "code",
   "execution_count": 42,
   "id": "d5ea667d-a5d4-47b4-80b5-7c9896a2f811",
   "metadata": {},
   "outputs": [
    {
     "name": "stdin",
     "output_type": "stream",
     "text": [
      "Enter items no 5\n"
     ]
    },
    {
     "name": "stdout",
     "output_type": "stream",
     "text": [
      "You have addi tems= 5\n",
      "Total items = 10\n"
     ]
    }
   ],
   "source": [
    "# 7. Increase shopping cart items by 3\n",
    "# Before: cart_items = 5\n",
    "# After: ?\n",
    "input_cart_items=int(input(\"Enter items no\"))\n",
    "current_items=5\n",
    "Total_items=current_items+input_cart_items\n",
    "print (\"You have addi tems=\",input_cart_items)\n",
    "print (\"Total items =\",Total_items)"
   ]
  },
  {
   "cell_type": "code",
   "execution_count": 48,
   "id": "e2949f72-c58c-4e34-bda1-ae8ecd0978e3",
   "metadata": {},
   "outputs": [
    {
     "name": "stdout",
     "output_type": "stream",
     "text": [
      "Price after discount = 800.0 INR\n"
     ]
    }
   ],
   "source": [
    "# 8. Apply a 20% discount to a price\n",
    "# Before: price = 1000\n",
    "# After: ?\n",
    "price=1000\n",
    "discount=price*20/100\n",
    "after_discount=price-discount\n",
    "print(\"Price after discount =\",after_discount,\"INR\")\n"
   ]
  },
  {
   "cell_type": "code",
   "execution_count": null,
   "id": "9cc768f2-e84b-43cc-8120-5f3f60794f6d",
   "metadata": {},
   "outputs": [],
   "source": [
    "# Academic Calculations"
   ]
  },
  {
   "cell_type": "code",
   "execution_count": 53,
   "id": "fb6393c1-da3c-466a-8175-9e6c70a97100",
   "metadata": {},
   "outputs": [
    {
     "name": "stdout",
     "output_type": "stream",
     "text": [
      "Percentage = 86.0 %\n"
     ]
    }
   ],
   "source": [
    "# 9. Calculate student percentage\n",
    "# Input: obtain_marks = 430, out_of = 500\n",
    "# Output: Percentage = ?\n",
    "obtain_marks=430\n",
    "out_of = 500\n",
    "Percentage=obtain_marks/out_of*100\n",
    "print(\"Percentage =\",Percentage,\"%\")"
   ]
  },
  {
   "cell_type": "code",
   "execution_count": 57,
   "id": "6d0f4a8c-88d9-429b-a78e-cefcacd1b88a",
   "metadata": {},
   "outputs": [
    {
     "name": "stdout",
     "output_type": "stream",
     "text": [
      "Average = 266.25\n"
     ]
    }
   ],
   "source": [
    "# 10. Calculate total and average of 4 subjects\n",
    "# Input Example:\n",
    "# ● Subject 1: 80\n",
    "# ● Subject 2: 75\n",
    "# ● Subject 3: 90\n",
    "# ● Subject 4: 85\n",
    "\n",
    "Subject_1= 80\n",
    "Subject_2= 75\n",
    "Subject_3= 90\n",
    "Subject_4= 85\n",
    "Avg=Subject_1+Subject_2+Subject_3+Subject_4/4\n",
    "print(\"Average =\",Avg)"
   ]
  },
  {
   "cell_type": "code",
   "execution_count": 59,
   "id": "594cd5f6-cece-4018-a33a-115796dad69f",
   "metadata": {},
   "outputs": [
    {
     "name": "stdout",
     "output_type": "stream",
     "text": [
      "Average= 75.0\n"
     ]
    }
   ],
   "source": [
    "# 11. Calculate average of 3 numbers\n",
    "# Input: num1 = 25, num2 = 35, num3 = 45\n",
    "# Output: Average = ?\n",
    "\n",
    "num1=25\n",
    "num2=35\n",
    "num3=45\n",
    "average=num1+num2+num3/3\n",
    "print(\"Average=\",average)"
   ]
  },
  {
   "cell_type": "code",
   "execution_count": null,
   "id": "84523956-e484-4a1a-80a2-71a30d0c6d0c",
   "metadata": {},
   "outputs": [],
   "source": [
    "# Finance & Business Calculations"
   ]
  },
  {
   "cell_type": "code",
   "execution_count": 63,
   "id": "52cf3db8-249e-4b00-8f7b-9f6c7c8343f5",
   "metadata": {},
   "outputs": [
    {
     "name": "stdout",
     "output_type": "stream",
     "text": [
      "Profit\n"
     ]
    }
   ],
   "source": [
    "# 12. Calculate profit or loss percentage\n",
    "# Input: cost_price = 500, selling_price = 600\n",
    "# Output: Profit or Loss = ?\n",
    "\n",
    "selling_price=600\n",
    "cost_price=500\n",
    "if selling_price>cost_price:\n",
    "    print(\"Profit\")\n",
    "else:\n",
    "    print(\"Loss\")\n"
   ]
  },
  {
   "cell_type": "code",
   "execution_count": 65,
   "id": "0a098e00-e47a-4ac8-8712-701eda918616",
   "metadata": {},
   "outputs": [
    {
     "name": "stdout",
     "output_type": "stream",
     "text": [
      "Total interest= 1000.0 INR\n"
     ]
    }
   ],
   "source": [
    "# 13. Calculate simple interest\n",
    "# Input: principal = 10000, rate = 5, time = 2\n",
    "# Output: Simple Interest = ?\n",
    "\n",
    "principal=10000\n",
    "rate=5\n",
    "time=2\n",
    "interest=principal*rate*time/100\n",
    "print(\"Total interest=\",interest,\"INR\")"
   ]
  },
  {
   "cell_type": "code",
   "execution_count": 81,
   "id": "43ef2345-17bd-4301-9021-481e5eb41329",
   "metadata": {},
   "outputs": [
    {
     "name": "stdout",
     "output_type": "stream",
     "text": [
      "360000.0 INR\n"
     ]
    }
   ],
   "source": [
    "# 14. Calculate compound interest\n",
    "# Input: principal = 10000, rate = 5, time = 2\n",
    "# Output: Compound Interest = ?\n",
    "\n",
    "principal=10000\n",
    "rate = 5\n",
    "time = 2\n",
    "compunt_interest=principal*(1+rate/1)**time\n",
    "print(compunt_interest,\"INR\")"
   ]
  },
  {
   "cell_type": "code",
   "execution_count": 82,
   "id": "9e465d73-577c-4a5e-9dee-cc4936cefb0d",
   "metadata": {},
   "outputs": [
    {
     "name": "stdout",
     "output_type": "stream",
     "text": [
      "5000.0 INR\n"
     ]
    }
   ],
   "source": [
    "# 15. Calculate tax on income\n",
    "# Input: income = 500000, tax_rate = 10\n",
    "# Output: Tax = ?\n",
    "income=50000\n",
    "tax_rate=10\n",
    "tax=income*tax_rate/100\n",
    "print(tax,\"INR\")"
   ]
  },
  {
   "cell_type": "code",
   "execution_count": 85,
   "id": "82f96089-2f51-40e5-818b-b7635fd682aa",
   "metadata": {},
   "outputs": [
    {
     "name": "stdout",
     "output_type": "stream",
     "text": [
      "25.0 %\n"
     ]
    }
   ],
   "source": [
    "# 16. Calculate percentage increase or decrease\n",
    "# Input: initial_value = 200, final_value = 250\n",
    "# Output: Percentage Change = ?\n",
    "initial_value = 200\n",
    "final_value = 250\n",
    "Percentage_Change=(final_value-initial_value)/initial_value*100\n",
    "print(Percentage_Change,\"%\")"
   ]
  },
  {
   "cell_type": "code",
   "execution_count": null,
   "id": "5e07426d-77cf-43f3-80a9-953620273b3e",
   "metadata": {},
   "outputs": [],
   "source": [
    "# Conversions"
   ]
  },
  {
   "cell_type": "code",
   "execution_count": 97,
   "id": "666b5149-369e-4ff1-8af9-dd39b4256d50",
   "metadata": {},
   "outputs": [
    {
     "name": "stdout",
     "output_type": "stream",
     "text": [
      "<class 'int'> 1\n"
     ]
    }
   ],
   "source": [
    "# 17. Convert boolean to integer\n",
    "# Input: True\n",
    "# Output: ?\n",
    "Input=True\n",
    "c=int(Input)\n",
    "print(type(c),c)"
   ]
  },
  {
   "cell_type": "code",
   "execution_count": 98,
   "id": "1b2a8044-6856-4d6e-a1a2-ff6641408c82",
   "metadata": {},
   "outputs": [
    {
     "name": "stdout",
     "output_type": "stream",
     "text": [
      "<class 'str'> 45.67\n"
     ]
    }
   ],
   "source": [
    "# 18. Convert float to string\n",
    "# Input: 45.67\n",
    "# Output: ?\n",
    "\n",
    "Input=45.67\n",
    "st=str(Input)\n",
    "print(type(st),st)"
   ]
  },
  {
   "cell_type": "code",
   "execution_count": 101,
   "id": "1f0964c7-6c6d-4e9d-b5ee-b33c16e0c1e3",
   "metadata": {},
   "outputs": [
    {
     "name": "stdout",
     "output_type": "stream",
     "text": [
      "68.0 F\n"
     ]
    }
   ],
   "source": [
    "# 19. Convert 20°C to Fahrenheit\n",
    "# Input: 20°C\n",
    "# Output: ?\n",
    "\n",
    "Input=20\n",
    "f=Input*9/5+32\n",
    "print(f,\"F\")"
   ]
  },
  {
   "cell_type": "code",
   "execution_count": 104,
   "id": "2be86c0e-bffb-46fd-9a1a-dbd2c5fe296a",
   "metadata": {},
   "outputs": [
    {
     "name": "stdout",
     "output_type": "stream",
     "text": [
      "10.0 c\n"
     ]
    }
   ],
   "source": [
    "# 20. Convert 50°F to Celsius\n",
    "# Input: 50°F\n",
    "# Output: ?\n",
    "\n",
    "Input=50\n",
    "c=(Input-32)*5/9\n",
    "print(c,\"c\")"
   ]
  },
  {
   "cell_type": "code",
   "execution_count": 107,
   "id": "3e9b8aca-ce46-474c-a7e3-1998c36c0d01",
   "metadata": {},
   "outputs": [
    {
     "name": "stdout",
     "output_type": "stream",
     "text": [
      "This is binary of 25= 0b11001\n"
     ]
    }
   ],
   "source": [
    "# 21. Convert integer to binary\n",
    "# Input: 25\n",
    "# Output: ?\n",
    "Input=25\n",
    "b=bin(Input)\n",
    "print(\"This is binary of 25=\",b)"
   ]
  },
  {
   "cell_type": "code",
   "execution_count": null,
   "id": "25569c48-9d8f-40ac-9174-90761b3f3d43",
   "metadata": {},
   "outputs": [],
   "source": [
    "# Geometry"
   ]
  },
  {
   "cell_type": "code",
   "execution_count": 109,
   "id": "e999a804-9106-411f-a8e4-33abc1556aea",
   "metadata": {},
   "outputs": [
    {
     "name": "stdout",
     "output_type": "stream",
     "text": [
      "Area is 30.0\n"
     ]
    }
   ],
   "source": [
    "# 21. Calculate area of a triangle\n",
    "# Input: base = 10, height = 6\n",
    "# Output: Area = ?\n",
    "base=10\n",
    "height=6\n",
    "area=1/2*base*height   #formula is area=1/2*base*height\n",
    "print(\"Area is\",area)\n"
   ]
  },
  {
   "cell_type": "code",
   "execution_count": 110,
   "id": "f3708076-def9-42f6-9bba-ecc61b48e5ee",
   "metadata": {},
   "outputs": [
    {
     "name": "stdout",
     "output_type": "stream",
     "text": [
      "36\n"
     ]
    }
   ],
   "source": [
    "# 22. Calculate perimeter of a square\n",
    "# Input: side = 9\n",
    "# Output: Perimeter = ?\n",
    "\n",
    "side=9\n",
    "perimeter=4*side   #formula is p=4a\n",
    "print(perimeter)"
   ]
  },
  {
   "cell_type": "code",
   "execution_count": 3,
   "id": "3b68975b-6dbb-47b8-968a-09526a025fc3",
   "metadata": {},
   "outputs": [
    {
     "name": "stdout",
     "output_type": "stream",
     "text": [
      "28\n"
     ]
    }
   ],
   "source": [
    "# 23. Calculate diameter of a circle\n",
    "# Input: radius = 14\n",
    "# Output: Diameter = ?\n",
    "r=14\n",
    "d=2*r   #Formula is D=2r\n",
    "print(d)"
   ]
  },
  {
   "cell_type": "code",
   "execution_count": 6,
   "id": "573229af-fb75-46dd-ab24-db74ffd04cdd",
   "metadata": {},
   "outputs": [
    {
     "name": "stdout",
     "output_type": "stream",
     "text": [
      "Volume is 125\n"
     ]
    }
   ],
   "source": [
    "# 24.Calculate volume of a cube\n",
    "# Input: side = 5\n",
    "# Output: Volume = ?\n",
    "area=5\n",
    "volume=(5)**3   #formula is V=a^3\n",
    "print(\"Volume is\",volume)"
   ]
  },
  {
   "cell_type": "code",
   "execution_count": 8,
   "id": "84895112-9730-4403-8ddf-746a4ca3f5c5",
   "metadata": {},
   "outputs": [
    {
     "name": "stdout",
     "output_type": "stream",
     "text": [
      "52\n"
     ]
    }
   ],
   "source": [
    "# 25. Calculate surface area of a cuboid\n",
    "# Input: l = 4, b = 3, h = 2\n",
    "# Output: Surface Area = ?\n",
    "l=4\n",
    "b=3\n",
    "h=2\n",
    "area=2*(l*b+b*h+h*l) #formula 2(l*b + b*h + h*l)\n",
    "print(area)"
   ]
  },
  {
   "cell_type": "code",
   "execution_count": null,
   "id": "bc519bb7-bc79-488c-9692-fe849172e908",
   "metadata": {},
   "outputs": [],
   "source": [
    "# Mathematical Expressions"
   ]
  },
  {
   "cell_type": "code",
   "execution_count": 12,
   "id": "a84af5f1-22a8-4952-a457-4d8179de56f7",
   "metadata": {},
   "outputs": [
    {
     "name": "stdout",
     "output_type": "stream",
     "text": [
      "144\n"
     ]
    }
   ],
   "source": [
    "# 26.Square of sum: (x + y)²\n",
    "# Input: x = 5, y = 7\n",
    "# Output: ?\n",
    "x=5\n",
    "y=7\n",
    "sum1=(x+y)**2\n",
    "print(sum1)"
   ]
  },
  {
   "cell_type": "code",
   "execution_count": 15,
   "id": "9ceb8bf8-c2f0-4c27-ac31-98220c7138bc",
   "metadata": {},
   "outputs": [
    {
     "name": "stdout",
     "output_type": "stream",
     "text": [
      "1\n"
     ]
    }
   ],
   "source": [
    "# 27.Simplify expression: x² - 4x + 4\n",
    "# Input: x = 3\n",
    "# Output: ?\n",
    "x=3\n",
    "z=x**2-4*x+4\n",
    "print (z)"
   ]
  },
  {
   "cell_type": "code",
   "execution_count": 17,
   "id": "bdf84ab5-f05f-458d-81d5-515f55b3b095",
   "metadata": {},
   "outputs": [
    {
     "name": "stdout",
     "output_type": "stream",
     "text": [
      "32\n"
     ]
    }
   ],
   "source": [
    "# 25.Evaluate: (a + b)(a - b)\n",
    "# Input: a = 6, b = 2\n",
    "# Output: ?\n",
    "\n",
    "a=6\n",
    "b=2\n",
    "c=(a+b)*(a-b)\n",
    "print(c)"
   ]
  },
  {
   "cell_type": "code",
   "execution_count": 25,
   "id": "74ac8e45-741f-4db1-a235-06b69dc0b700",
   "metadata": {},
   "outputs": [
    {
     "name": "stdout",
     "output_type": "stream",
     "text": [
      "9\n"
     ]
    }
   ],
   "source": [
    "# 29.Sum of cubes: a³ + b³\n",
    "# Input: a = 1, b = 2\n",
    "# Output: ?\n",
    "a=1\n",
    "b=2\n",
    "cube=3\n",
    "Sum_of_cube=a**cube+b**cube\n",
    "print(Sum_of_cube)"
   ]
  },
  {
   "cell_type": "code",
   "execution_count": 28,
   "id": "a482469b-3cab-40a1-ae2c-a8b4eb784f28",
   "metadata": {},
   "outputs": [
    {
     "name": "stdout",
     "output_type": "stream",
     "text": [
      "16\n"
     ]
    }
   ],
   "source": [
    "# 30.Simplify: (x - y)²\n",
    "# Input: x = 10, y = 6\n",
    "# Output: ?\n",
    "\n",
    "x=10\n",
    "y=6\n",
    "simplify=(x-y)**2\n",
    "print(simplify)"
   ]
  },
  {
   "cell_type": "code",
   "execution_count": 29,
   "id": "3ebe0a90-5690-41d6-9cc9-511a8b71384f",
   "metadata": {},
   "outputs": [
    {
     "name": "stdout",
     "output_type": "stream",
     "text": [
      "63\n"
     ]
    }
   ],
   "source": [
    "# 31.Difference of cubes: x³ - y³\n",
    "# Input: x = 4, y = 1\n",
    "# Output: ?\n",
    "\n",
    "x=4\n",
    "y=1\n",
    "c=3\n",
    "res=x**c-y**c\n",
    "print(res)"
   ]
  },
  {
   "cell_type": "code",
   "execution_count": null,
   "id": "90c57d09-b949-42e8-997f-2c85cdc0df1a",
   "metadata": {},
   "outputs": [],
   "source": [
    "# String Operations"
   ]
  },
  {
   "cell_type": "code",
   "execution_count": 46,
   "id": "b1c971a8-2dd5-4471-ba10-61c842537f87",
   "metadata": {},
   "outputs": [
    {
     "name": "stdout",
     "output_type": "stream",
     "text": [
      "meet Dev, a25-year-old, enthusiast From Jaipur\n"
     ]
    }
   ],
   "source": [
    "# 32.If user input is:\n",
    "# Name: Dev\n",
    "# Age: 25\n",
    "# City: Jaipur\n",
    "# Hobby: Cooking\n",
    "\n",
    "Nam=\"Dev\"\n",
    "Age=25\n",
    "City=\"Jaipur\"\n",
    "Hobby=\"Cooking\"\n",
    "print(f\"meet {Nam}, a{Age}-year-old, enthusiast From {City}\") "
   ]
  },
  {
   "cell_type": "code",
   "execution_count": 50,
   "id": "e58a311e-b8f2-414d-907a-8dad783edf25",
   "metadata": {},
   "outputs": [
    {
     "name": "stdin",
     "output_type": "stream",
     "text": [
      "Enter your full name Yogesh\n",
      "Enter your profession Data Scintist\n",
      "Enter your Experience in years 5\n",
      "Enter your favorite quote I love coding\n"
     ]
    },
    {
     "name": "stdout",
     "output_type": "stream",
     "text": [
      "\n",
      "-------------------------------------------------\n",
      "Name :Yogesh\n",
      "Profession : Data Scintist\n",
      "Experience : 5 years\n",
      "Quote : I love coding \n"
     ]
    }
   ],
   "source": [
    "# 33.Create a Python program that asks the user for the following:\n",
    "# ● Full Name\n",
    "# ● Profession\n",
    "# ● Favorite Quote\n",
    "# ● Years of Experience\n",
    "# Output format:\n",
    "# ------------------------------------------------\n",
    "# Name : <Full Name>\n",
    "# Profession : <Profession>\n",
    "# Experience : <Years of Experience> years\n",
    "# Quote : \"<Favorite Quote>\"\n",
    "\n",
    "Name=input(\"Enter your full name\")\n",
    "Profession=input(\"Enter your profession\")\n",
    "Experience=int(input(\"Enter your Experience in years\"))\n",
    "Fav_Quote=input(\"Enter your favorite quote\")\n",
    "\n",
    "print(f'''\n",
    "-------------------------------------------------\n",
    "Name :{Name}\n",
    "Profession : {Profession}\n",
    "Experience : {Experience} years\n",
    "Quote : {Fav_Quote} ''')"
   ]
  },
  {
   "cell_type": "code",
   "execution_count": null,
   "id": "f258d397-e771-4e16-ba2d-d847b8a3458b",
   "metadata": {},
   "outputs": [],
   "source": []
  }
 ],
 "metadata": {
  "kernelspec": {
   "display_name": "Python 3 (ipykernel)",
   "language": "python",
   "name": "python3"
  },
  "language_info": {
   "codemirror_mode": {
    "name": "ipython",
    "version": 3
   },
   "file_extension": ".py",
   "mimetype": "text/x-python",
   "name": "python",
   "nbconvert_exporter": "python",
   "pygments_lexer": "ipython3",
   "version": "3.12.3"
  }
 },
 "nbformat": 4,
 "nbformat_minor": 5
}
